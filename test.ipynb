{
 "cells": [
  {
   "cell_type": "code",
   "execution_count": 22,
   "metadata": {},
   "outputs": [],
   "source": [
    "import pickle\n",
    "import pandas as pd\n",
    "import torch\n",
    "from torch import nn\n",
    "from torch.nn import functional as F"
   ]
  },
  {
   "cell_type": "code",
   "execution_count": 14,
   "metadata": {},
   "outputs": [
    {
     "data": {
      "text/plain": [
       "{'n_steps_in': 6,\n",
       " 'n_steps_out': 10,\n",
       " 'hidden_size': 64,\n",
       " 'learning_rate': 0.00026714846723588354,\n",
       " 'weight_decay': 1.2462812380347419e-06,\n",
       " 'batch_size': 512,\n",
       " 'max_epochs': 1690,\n",
       " 'num_layers': 1,\n",
       " 'input_size': 2,\n",
       " 'checkpoint_freq': 10,\n",
       " 'max_rows': None,\n",
       " 'fast_dev_run': False,\n",
       " 'gpu': 1,\n",
       " 'include_indicator': True,\n",
       " 'delay_in_the_indicator': 0,\n",
       " 'gap': 1,\n",
       " 'include_target': True,\n",
       " 'num_samples': 100,\n",
       " 'skiprows': 120000}"
      ]
     },
     "execution_count": 14,
     "metadata": {},
     "output_type": "execute_result"
    }
   ],
   "source": [
    "params = pd.read_pickle(\"./train_model_5a04d_00095_95_batch_size=512,hidden_size=64,learning_rate=0.0003,max_epochs=1690,n_steps_in=6,n_steps_out=10,num_laye_2023-05-04_18-44-24\\params.pkl\")\n",
    "params"
   ]
  },
  {
   "cell_type": "code",
   "execution_count": 15,
   "metadata": {},
   "outputs": [],
   "source": [
    "with open('pickle.dat', 'rb') as file:\n",
    "    # Load the object from the file\n",
    "    data = pickle.load(file)"
   ]
  },
  {
   "cell_type": "code",
   "execution_count": 17,
   "metadata": {},
   "outputs": [
    {
     "data": {
      "text/plain": [
       "2"
      ]
     },
     "execution_count": 17,
     "metadata": {},
     "output_type": "execute_result"
    }
   ],
   "source": [
    "len(data)"
   ]
  },
  {
   "cell_type": "code",
   "execution_count": 18,
   "metadata": {},
   "outputs": [
    {
     "data": {
      "text/plain": [
       "(torch.Size([1617466, 6, 2]), torch.Size([1617466, 10]))"
      ]
     },
     "execution_count": 18,
     "metadata": {},
     "output_type": "execute_result"
    }
   ],
   "source": [
    "data[0].shape, data[1].shape"
   ]
  },
  {
   "cell_type": "code",
   "execution_count": 19,
   "metadata": {},
   "outputs": [
    {
     "data": {
      "text/plain": [
       "tensor([[0.0902, 0.0902, 0.0902, 0.0902, 0.0902, 0.0902, 0.0902, 0.0910, 0.0910,\n",
       "         0.0910],\n",
       "        [0.0902, 0.0902, 0.0902, 0.0902, 0.0902, 0.0902, 0.0910, 0.0910, 0.0910,\n",
       "         0.0910],\n",
       "        [0.0902, 0.0902, 0.0902, 0.0902, 0.0902, 0.0910, 0.0910, 0.0910, 0.0910,\n",
       "         0.0910],\n",
       "        [0.0902, 0.0902, 0.0902, 0.0902, 0.0910, 0.0910, 0.0910, 0.0910, 0.0910,\n",
       "         0.0910],\n",
       "        [0.0902, 0.0902, 0.0902, 0.0910, 0.0910, 0.0910, 0.0910, 0.0910, 0.0910,\n",
       "         0.0910]])"
      ]
     },
     "execution_count": 19,
     "metadata": {},
     "output_type": "execute_result"
    }
   ],
   "source": [
    "data[1][:5, :]"
   ]
  },
  {
   "cell_type": "code",
   "execution_count": 20,
   "metadata": {},
   "outputs": [
    {
     "data": {
      "text/plain": [
       "tensor([[0.0019, 0.0894],\n",
       "        [0.0019, 0.0894],\n",
       "        [0.0019, 0.0894],\n",
       "        [0.0019, 0.0894],\n",
       "        [0.0019, 0.0894],\n",
       "        [0.0019, 0.0902]])"
      ]
     },
     "execution_count": 20,
     "metadata": {},
     "output_type": "execute_result"
    }
   ],
   "source": [
    "data[0][0]"
   ]
  },
  {
   "cell_type": "code",
   "execution_count": 53,
   "metadata": {},
   "outputs": [],
   "source": [
    "# Ref: https://www.kaggle.com/code/sagarikajadon/gb-vpp-pytorch-lstm-baseline\n",
    "class BiLSTM(nn.Module):\n",
    "    def __init__(self, input_dim, output_dim):\n",
    "        super().__init__()\n",
    "        \n",
    "        hidden_dim= [400, 300, 200, 100]\n",
    "        self.bilstm1= nn.LSTM(input_dim, hidden_dim[0], batch_first= True, bidirectional= True)\n",
    "        self.norm1= nn.LayerNorm(hidden_dim[0]*2)\n",
    "        \n",
    "        self.bilstm2= nn.LSTM(hidden_dim[0]*2, hidden_dim[1], batch_first= True, bidirectional= True)\n",
    "        self.norm2= nn.LayerNorm(hidden_dim[1]*2)\n",
    "        \n",
    "        self.bilstm3= nn.LSTM(hidden_dim[1]*2, hidden_dim[2], batch_first= True, bidirectional= True)\n",
    "        self.norm3= nn.LayerNorm(hidden_dim[2]*2)\n",
    "        \n",
    "        self.bilstm4= nn.LSTM(hidden_dim[2]*2, hidden_dim[3], batch_first= True, bidirectional= True)\n",
    "        self.norm4= nn.LayerNorm(hidden_dim[3]*2)\n",
    "        \n",
    "        self.fc1= nn.Linear(hidden_dim[3]*2, 100)\n",
    "        self.fc2= nn.Linear(100, output_dim)\n",
    "\n",
    "        \n",
    "    def forward(self, X):\n",
    "        pred, _= self.bilstm1(X)\n",
    "        pred= self.norm1(pred)\n",
    "        \n",
    "        pred, _= self.bilstm2(pred)\n",
    "        pred= self.norm2(pred)\n",
    "        \n",
    "        pred, _= self.bilstm3(pred)\n",
    "        pred= self.norm3(pred)\n",
    "        \n",
    "        pred, _= self.bilstm4(pred)\n",
    "        pred= self.norm4(pred)\n",
    "        \n",
    "        pred= self.fc1(pred[:, -1, :])\n",
    "        pred= F.selu(pred)\n",
    "        \n",
    "        pred= self.fc2(pred)\n",
    "        return pred"
   ]
  },
  {
   "cell_type": "code",
   "execution_count": 58,
   "metadata": {},
   "outputs": [],
   "source": [
    "model = BiLSTM(2, 10)"
   ]
  },
  {
   "cell_type": "code",
   "execution_count": 59,
   "metadata": {},
   "outputs": [
    {
     "name": "stdout",
     "output_type": "stream",
     "text": [
      "torch.Size([32, 6, 200])\n"
     ]
    },
    {
     "data": {
      "text/plain": [
       "torch.Size([32, 10])"
      ]
     },
     "execution_count": 59,
     "metadata": {},
     "output_type": "execute_result"
    }
   ],
   "source": [
    "x = torch.rand(32, 6, 2)\n",
    "\n",
    "model(x).shape"
   ]
  },
  {
   "cell_type": "code",
   "execution_count": null,
   "metadata": {},
   "outputs": [],
   "source": []
  }
 ],
 "metadata": {
  "kernelspec": {
   "display_name": "base",
   "language": "python",
   "name": "python3"
  },
  "language_info": {
   "codemirror_mode": {
    "name": "ipython",
    "version": 3
   },
   "file_extension": ".py",
   "mimetype": "text/x-python",
   "name": "python",
   "nbconvert_exporter": "python",
   "pygments_lexer": "ipython3",
   "version": "3.10.9"
  },
  "orig_nbformat": 4
 },
 "nbformat": 4,
 "nbformat_minor": 2
}
